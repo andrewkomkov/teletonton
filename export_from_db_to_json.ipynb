{
 "cells": [
  {
   "cell_type": "markdown",
   "metadata": {},
   "source": [
    "### Простой экспорт таблицы с диалогами в json"
   ]
  },
  {
   "cell_type": "code",
   "execution_count": 15,
   "metadata": {},
   "outputs": [],
   "source": [
    "import sqlite3\n",
    "import json\n",
    "\n",
    "DB = \"db/messages.db\"\n",
    "\n",
    "def db_to_json(table_name,json_str = True):\n",
    "    conn = sqlite3.connect(DB)\n",
    "    conn.row_factory = sqlite3.Row\n",
    "    db = conn.cursor()\n",
    "\n",
    "    rows = db.execute(f'''\n",
    "    SELECT * from \"{table_name}\"\n",
    "    ''').fetchall()\n",
    "\n",
    "    conn.commit()\n",
    "    conn.close()\n",
    "    \n",
    "    data = json.dumps([dict(ix) for ix in rows],ensure_ascii=False)\n",
    "\n",
    "\n",
    "    with open(f'{table_name}.json', 'w', encoding='utf-8') as f:\n",
    "        json.dump(data, f, ensure_ascii=False, indent=4)\n",
    "\n",
    "    print (f'Данные из таблицы {table_name} выгружены в файл {table_name}.json')"
   ]
  },
  {
   "cell_type": "code",
   "execution_count": 16,
   "metadata": {},
   "outputs": [],
   "source": [
    "table_list = [-1001656961157]"
   ]
  },
  {
   "cell_type": "code",
   "execution_count": 17,
   "metadata": {},
   "outputs": [
    {
     "name": "stdout",
     "output_type": "stream",
     "text": [
      "Данные из таблицы -1001656961157 выгружены в файл -1001656961157.json\n"
     ]
    }
   ],
   "source": [
    "for table in table_list:\n",
    "    db_to_json(table)"
   ]
  },
  {
   "cell_type": "code",
   "execution_count": null,
   "metadata": {},
   "outputs": [],
   "source": []
  }
 ],
 "metadata": {
  "kernelspec": {
   "display_name": "Python 3.10.4 64-bit",
   "language": "python",
   "name": "python3"
  },
  "language_info": {
   "codemirror_mode": {
    "name": "ipython",
    "version": 3
   },
   "file_extension": ".py",
   "mimetype": "text/x-python",
   "name": "python",
   "nbconvert_exporter": "python",
   "pygments_lexer": "ipython3",
   "version": "3.10.4"
  },
  "orig_nbformat": 4,
  "vscode": {
   "interpreter": {
    "hash": "aee8b7b246df8f9039afb4144a1f6fd8d2ca17a180786b69acc140d282b71a49"
   }
  }
 },
 "nbformat": 4,
 "nbformat_minor": 2
}
