{
 "cells": [
  {
   "cell_type": "code",
   "execution_count": null,
   "metadata": {},
   "outputs": [],
   "source": [
    "# pip install telethon"
   ]
  },
  {
   "cell_type": "code",
   "execution_count": null,
   "metadata": {},
   "outputs": [],
   "source": [
    "# Тут обозначим и запустим наш клиент - при запуске этой ячейки нужно будет ввести номер телефона, \n",
    "# ввести код подтверждения которое прийдет в ваш телеграм канал - с этого момента вы будете авторизованы \n",
    "# и сможете скачивать сообщения из тех каналов, на которые подписаны\n",
    "API_ID = 12125354\n",
    "API_HASH = '32b18b9170c167da78af810695ad7404'\n",
    "\n",
    "from telethon import TelegramClient\n",
    "client = TelegramClient('crawler_session', API_ID, API_HASH)\n",
    "\n",
    "await client.start()"
   ]
  },
  {
   "cell_type": "code",
   "execution_count": null,
   "metadata": {},
   "outputs": [],
   "source": [
    "# Импортируем нужные фунции из файлика db_func.py + создадим экземпляр SQLITE таблички с именем messages.db - в ней и будем хранить всю информацию\n",
    "from db_func import conn, store_dialog, create_table, store_message, store_user"
   ]
  },
  {
   "cell_type": "code",
   "execution_count": null,
   "metadata": {},
   "outputs": [],
   "source": [
    "# Заполним таблицу со всеми нашими диалогами\n",
    "async for dialog in client.iter_dialogs():\n",
    "    try:\n",
    "        store_dialog(dialog.id,dialog.name)\n",
    "    except:\n",
    "        pass"
   ]
  },
  {
   "cell_type": "markdown",
   "metadata": {},
   "source": [
    "Подключиться к файлу с БД SQLITE можно любым доступным средством - включая DBEAVER.\n",
    "\n",
    "Посмотрим id интересующих нас диалогов в DBEAVER в таблице dialogs и поместим их в список  dialog_list"
   ]
  },
  {
   "cell_type": "code",
   "execution_count": null,
   "metadata": {},
   "outputs": [],
   "source": [
    "# Так - список всех диалогов можно вывести на экран"
   ]
  },
  {
   "cell_type": "code",
   "execution_count": null,
   "metadata": {},
   "outputs": [],
   "source": [
    "# Например добавим в список канал с id '-1001534342934\n",
    "dialog_list = [140687089]"
   ]
  },
  {
   "cell_type": "code",
   "execution_count": null,
   "metadata": {},
   "outputs": [],
   "source": [
    "# Наполним табличку с пользователями инфой из интересующих нас диалогов - \n",
    "# Важно -  не из всех диалогов можно получить список пользователей(может быть ограничено админом канала)\n",
    "for dialog in dialog_list:\n",
    "    try:\n",
    "        part = await client.get_participants(dialog)\n",
    "        print(dialog,'Получен список пользователей')\n",
    "    except:\n",
    "        part = None\n",
    "        print(f'Для канала {dialog} нельзя запросить пользователей')\n",
    "    try:\n",
    "        for p in part:\n",
    "            try:\n",
    "                store_user(p.id,p.username,p.phone,p.first_name,p.last_name)\n",
    "            except:\n",
    "                pass\n",
    "    except:\n",
    "        pass"
   ]
  },
  {
   "cell_type": "code",
   "execution_count": null,
   "metadata": {},
   "outputs": [],
   "source": [
    "# Выгрузим все текствые сообщения из интересующих нас каналов \n",
    "# Важно - выгрузка идет с последнего сообщения к первому - по одному (поэтому важно сделать первую выгрузку до конца) - \n",
    "# При повтороном запуске скрипта таблицы с сообщениями будут только дополнены новыми сообщениями начиная с последнего полученного\n",
    "# Для каждого канала будет создана своя таблица название_таблицы = id_канала\n",
    "for chanel in dialog_list:\n",
    "        messages = await client.get_messages(chanel)\n",
    "        print(f'Всего сообщений в канале {chanel} - ',messages.total)\n",
    "        i = 0\n",
    "        create_table(chanel)\n",
    "        c = conn.cursor()\n",
    "        last_msg = c.execute(f'''SELECT MAX(message_id) FROM \"{chanel}\"''').fetchone()[0]\n",
    "        conn.commit()\n",
    "        async for message in client.iter_messages(chanel):\n",
    "                if last_msg == None or message.id > last_msg:\n",
    "                        if message.from_id:\n",
    "                                try:\n",
    "                                        author = message.from_id.user_id\n",
    "                                except:\n",
    "                                        author = message.from_id.channel_id\n",
    "                        elif message.peer_id:\n",
    "                                try:\n",
    "                                        author = message.peer_id.channel_id\n",
    "                                except:\n",
    "                                        author = message.peer_id.user_id\n",
    "                        else:\n",
    "                                author = 'unc'\n",
    "                        store_message(chanel,message.id,author,message.text,message.date,message.views)\n",
    "                else:\n",
    "                        print('Дельта загружена')\n",
    "                        break\n",
    "                i = i+1\n",
    "                if i % 1000 == 0:\n",
    "                        print(f'Загружено {i} сообщений')\n",
    "        print('Все сообщения загружены')"
   ]
  },
  {
   "cell_type": "code",
   "execution_count": null,
   "metadata": {},
   "outputs": [],
   "source": []
  }
 ],
 "metadata": {
  "interpreter": {
   "hash": "aee8b7b246df8f9039afb4144a1f6fd8d2ca17a180786b69acc140d282b71a49"
  },
  "kernelspec": {
   "display_name": "Python 3 (ipykernel)",
   "language": "python",
   "name": "python3"
  },
  "language_info": {
   "codemirror_mode": {
    "name": "ipython",
    "version": 3
   },
   "file_extension": ".py",
   "mimetype": "text/x-python",
   "name": "python",
   "nbconvert_exporter": "python",
   "pygments_lexer": "ipython3",
   "version": "3.10.4"
  }
 },
 "nbformat": 4,
 "nbformat_minor": 2
}
