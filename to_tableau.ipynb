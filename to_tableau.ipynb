{
 "cells": [
  {
   "cell_type": "code",
   "execution_count": 32,
   "metadata": {},
   "outputs": [],
   "source": [
    "import sqlite3\n",
    "import json\n",
    "\n",
    "DB = \"db/messages.db\"\n",
    "\n",
    "def db_to_json(table_name,json_str = False):\n",
    "    conn = sqlite3.connect(DB)\n",
    "    conn.row_factory = sqlite3.Row\n",
    "    db = conn.cursor()\n",
    "\n",
    "    rows = db.execute(f'''\n",
    "    SELECT * from \"{table_name}\"\n",
    "    ''').fetchall()\n",
    "\n",
    "    conn.commit()\n",
    "    conn.close()\n",
    "\n",
    "    if json_str:\n",
    "        return json.dumps([dict(ix) for ix in rows],ensure_ascii=False)\n",
    "\n",
    "    return rows"
   ]
  },
  {
   "cell_type": "code",
   "execution_count": 33,
   "metadata": {},
   "outputs": [],
   "source": [
    "data = db_to_json(140687089,json_str=True)\n",
    "data = json.loads(data)"
   ]
  },
  {
   "cell_type": "code",
   "execution_count": 35,
   "metadata": {},
   "outputs": [],
   "source": [
    "with open('data.json', 'w', encoding='utf-8') as f:\n",
    "    json.dump(data, f, ensure_ascii=False, indent=4)"
   ]
  },
  {
   "cell_type": "code",
   "execution_count": null,
   "metadata": {},
   "outputs": [],
   "source": []
  }
 ],
 "metadata": {
  "kernelspec": {
   "display_name": "Python 3.9.7 ('base')",
   "language": "python",
   "name": "python3"
  },
  "language_info": {
   "codemirror_mode": {
    "name": "ipython",
    "version": 3
   },
   "file_extension": ".py",
   "mimetype": "text/x-python",
   "name": "python",
   "nbconvert_exporter": "python",
   "pygments_lexer": "ipython3",
   "version": "3.9.7"
  },
  "orig_nbformat": 4,
  "vscode": {
   "interpreter": {
    "hash": "643d46f45fb56cd343ac6b5ad4c9b5245f31894918bca83c66af6104b5f29fce"
   }
  }
 },
 "nbformat": 4,
 "nbformat_minor": 2
}
